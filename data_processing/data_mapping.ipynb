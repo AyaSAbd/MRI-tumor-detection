{
 "cells": [
  {
   "cell_type": "code",
   "execution_count": 17,
   "id": "b078472f",
   "metadata": {},
   "outputs": [
    {
     "name": "stdout",
     "output_type": "stream",
     "text": [
      "Image: ../brain_tumor_classification/data/images/00054_145.jpg -> Label: ../brain_tumor_classification/data/labels/00054_145.txt\n",
      "Image: ../brain_tumor_classification/data/images/00054_164.jpg -> Label: ../brain_tumor_classification/data/labels/00054_164.txt\n",
      "Image: ../brain_tumor_classification/data/images/00056_129.jpg -> Label: ../brain_tumor_classification/data/labels/00056_129.txt\n",
      "Image: ../brain_tumor_classification/data/images/00056_147.jpg -> Label: ../brain_tumor_classification/data/labels/00056_147.txt\n",
      "Image: ../brain_tumor_classification/data/images/00056_239.jpg -> Label: ../brain_tumor_classification/data/labels/00056_239.txt\n"
     ]
    }
   ],
   "source": [
    "import os\n",
    "\n",
    "# Define the paths to the images and labels folders\n",
    "image_folder = '../brain_tumor_classification/data/images/'\n",
    "label_folder = '../brain_tumor_classification/data/labels/'\n",
    "\n",
    "# Get a list of all image files\n",
    "image_files = {os.path.splitext(f)[0]: os.path.join(image_folder, f)\n",
    "               for f in os.listdir(image_folder) if f.endswith(('.png', '.jpg', '.jpeg'))}\n",
    "\n",
    "# Get a list of all label files\n",
    "label_files = {os.path.splitext(f)[0]: os.path.join(label_folder, f)\n",
    "               for f in os.listdir(label_folder) if f.endswith('.txt')}\n",
    "\n",
    "# 🔥 Delete unmatched images\n",
    "for image_id in list(image_files.keys()):\n",
    "    if image_id not in label_files:\n",
    "        print(f\"Deleting image without label: {image_files[image_id]}\")\n",
    "        os.remove(image_files[image_id])\n",
    "        del image_files[image_id]\n",
    "\n",
    "# 🔥 Delete unmatched labels\n",
    "for label_id in list(label_files.keys()):\n",
    "    if label_id not in image_files:\n",
    "        print(f\"Deleting label without image: {label_files[label_id]}\")\n",
    "        os.remove(label_files[label_id])\n",
    "        del label_files[label_id]\n",
    "\n",
    "# Now only matching pairs remain\n",
    "mapped_data = {\n",
    "    image_id: {\"image\": image_files[image_id], \"label\": label_files[image_id]}\n",
    "    for image_id in image_files\n",
    "}\n",
    "\n",
    "# Print sample mappings\n",
    "for key, value in list(mapped_data.items())[:5]:\n",
    "    print(f\"Image: {value['image']} -> Label: {value['label']}\")\n"
   ]
  },
  {
   "cell_type": "code",
   "execution_count": 18,
   "id": "8bce5a87",
   "metadata": {},
   "outputs": [
    {
     "name": "stdout",
     "output_type": "stream",
     "text": [
      "Mapping saved to ../brain_tumor_classification/data/mapped_data/mapped_data.csv\n"
     ]
    }
   ],
   "source": [
    "import csv\n",
    "\n",
    "# Path to save the mapping\n",
    "output_path = '../brain_tumor_classification/data/mapped_data/mapped_data.csv'\n",
    "# Open the CSV file for writing\n",
    "with open(output_path, \"w\", newline=\"\") as csv_file:\n",
    "    writer = csv.writer(csv_file)\n",
    "\n",
    "    # Write the header\n",
    "    writer.writerow([\"Image_ID\", \"Image_Path\", \"Label_Path\"])\n",
    "\n",
    "    # Write data\n",
    "    for image_id, paths in mapped_data.items():\n",
    "        writer.writerow([image_id, paths[\"image\"], paths[\"label\"]])\n",
    "\n",
    "print(f\"Mapping saved to {output_path}\")\n",
    "\n"
   ]
  },
  {
   "cell_type": "code",
   "execution_count": 19,
   "id": "16c568d1",
   "metadata": {},
   "outputs": [
    {
     "name": "stdout",
     "output_type": "stream",
     "text": [
      "Positive Cases (Tumor): 432\n",
      "Negative Cases (No Tumor): 419\n"
     ]
    }
   ],
   "source": [
    "import os\n",
    "\n",
    "# Path to the labels folder\n",
    "label_folder = '../brain_tumor_classification/data/labels/'\n",
    "\n",
    "# Initialize counters\n",
    "positive_count = 0\n",
    "negative_count = 0\n",
    "\n",
    "# Loop through each label file\n",
    "for file_name in os.listdir(label_folder):\n",
    "  file_path = os.path.join(label_folder, file_name)\n",
    "  with open(file_path, \"r\") as file:\n",
    "    first_value = file.readline().split()[0]\n",
    "    if first_value == \"1\":\n",
    "      positive_count += 1\n",
    "    elif first_value == \"0\":\n",
    "      negative_count += 1\n",
    "\n",
    "# Print results\n",
    "print(f\"Positive Cases (Tumor): {positive_count}\")\n",
    "print(f\"Negative Cases (No Tumor): {negative_count}\")\n"
   ]
  },
  {
   "cell_type": "code",
   "execution_count": 20,
   "id": "78db8424",
   "metadata": {},
   "outputs": [
    {
     "data": {
      "image/png": "[encoded data removed]",
      "text/plain": [
       "<Figure size 600x400 with 1 Axes>"
      ]
     },
     "metadata": {},
     "output_type": "display_data"
    }
   ],
   "source": [
    "import matplotlib.pyplot as plt\n",
    "\n",
    "# Data for visualization\n",
    "labels = [\"Negative (No Tumor)\", \"Positive (Tumor)\"]\n",
    "counts = [negative_count, positive_count]\n",
    "\n",
    "# Plot bar chart\n",
    "plt.figure(figsize=(6,4))\n",
    "plt.bar(labels, counts)\n",
    "plt.xlabel(\"Tumor Presence\")\n",
    "plt.ylabel(\"Number of Cases\")\n",
    "plt.title(\"Data Imbalance in Tumor Classification\")\n",
    "plt.show()\n"
   ]
  }
 ],
 "metadata": {
  "language_info": {
   "name": "python"
  }
 },
 "nbformat": 4,
 "nbformat_minor": 5
}
